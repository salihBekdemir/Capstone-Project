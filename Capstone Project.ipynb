{
 "cells": [
  {
   "cell_type": "markdown",
   "id": "1ef38658",
   "metadata": {},
   "source": [
    "# Capstone Project - \n",
    "# A Model that recognizes street signs in Germany"
   ]
  },
  {
   "cell_type": "markdown",
   "id": "b9183634",
   "metadata": {},
   "source": [
    "### In this project, we will create a site that can recognize street signs in Germany. To do this, we will first take previously taken street sign images, read them and train our model with Tensorflow and Keras."
   ]
  },
  {
   "cell_type": "markdown",
   "id": "f701f284",
   "metadata": {},
   "source": [
    "<img src=https://sonhabereu.teimg.com/sonhaber-eu/uploads/2023/12/belcika-trafik-levhalari.jpg width='400'>"
   ]
  },
  {
   "cell_type": "code",
   "execution_count": 1,
   "id": "1875aa87",
   "metadata": {},
   "outputs": [],
   "source": [
    "#pip install opencv-python"
   ]
  },
  {
   "cell_type": "code",
   "execution_count": 2,
   "id": "87ad97dc",
   "metadata": {},
   "outputs": [],
   "source": [
    "import cv2\n",
    "import pandas as pd\n",
    "import os"
   ]
  },
  {
   "cell_type": "code",
   "execution_count": 3,
   "id": "2c606b12",
   "metadata": {},
   "outputs": [],
   "source": [
    "labels = [str(i) for i in range(43)]\n",
    "img_path = 'Train/'"
   ]
  },
  {
   "cell_type": "code",
   "execution_count": 4,
   "id": "c98814b5",
   "metadata": {},
   "outputs": [
    {
     "data": {
      "text/plain": [
       "['0',\n",
       " '1',\n",
       " '2',\n",
       " '3',\n",
       " '4',\n",
       " '5',\n",
       " '6',\n",
       " '7',\n",
       " '8',\n",
       " '9',\n",
       " '10',\n",
       " '11',\n",
       " '12',\n",
       " '13',\n",
       " '14',\n",
       " '15',\n",
       " '16',\n",
       " '17',\n",
       " '18',\n",
       " '19',\n",
       " '20',\n",
       " '21',\n",
       " '22',\n",
       " '23',\n",
       " '24',\n",
       " '25',\n",
       " '26',\n",
       " '27',\n",
       " '28',\n",
       " '29',\n",
       " '30',\n",
       " '31',\n",
       " '32',\n",
       " '33',\n",
       " '34',\n",
       " '35',\n",
       " '36',\n",
       " '37',\n",
       " '38',\n",
       " '39',\n",
       " '40',\n",
       " '41',\n",
       " '42']"
      ]
     },
     "execution_count": 4,
     "metadata": {},
     "output_type": "execute_result"
    }
   ],
   "source": [
    "labels"
   ]
  },
  {
   "cell_type": "code",
   "execution_count": 5,
   "id": "a766571a",
   "metadata": {},
   "outputs": [],
   "source": [
    "img_list=[]\n",
    "label_list=[]\n",
    "for label in labels:\n",
    "    for img_file in os.listdir(img_path+label):\n",
    "        img_list.append(img_path+label+'/'+img_file)\n",
    "        label_list.append(label)"
   ]
  },
  {
   "cell_type": "code",
   "execution_count": 6,
   "id": "afdcd8cd",
   "metadata": {},
   "outputs": [],
   "source": [
    "df=pd.DataFrame({'img':img_list,'label':label_list})"
   ]
  },
  {
   "cell_type": "code",
   "execution_count": 7,
   "id": "40dadeb2",
   "metadata": {},
   "outputs": [
    {
     "data": {
      "text/html": [
       "<div>\n",
       "<style scoped>\n",
       "    .dataframe tbody tr th:only-of-type {\n",
       "        vertical-align: middle;\n",
       "    }\n",
       "\n",
       "    .dataframe tbody tr th {\n",
       "        vertical-align: top;\n",
       "    }\n",
       "\n",
       "    .dataframe thead th {\n",
       "        text-align: right;\n",
       "    }\n",
       "</style>\n",
       "<table border=\"1\" class=\"dataframe\">\n",
       "  <thead>\n",
       "    <tr style=\"text-align: right;\">\n",
       "      <th></th>\n",
       "      <th>img</th>\n",
       "      <th>label</th>\n",
       "    </tr>\n",
       "  </thead>\n",
       "  <tbody>\n",
       "    <tr>\n",
       "      <th>34242</th>\n",
       "      <td>Train/35/00035_00029_00026.png</td>\n",
       "      <td>35</td>\n",
       "    </tr>\n",
       "    <tr>\n",
       "      <th>27695</th>\n",
       "      <td>Train/23/00023_00014_00015.png</td>\n",
       "      <td>23</td>\n",
       "    </tr>\n",
       "    <tr>\n",
       "      <th>24340</th>\n",
       "      <td>Train/17/00017_00026_00017.png</td>\n",
       "      <td>17</td>\n",
       "    </tr>\n",
       "    <tr>\n",
       "      <th>9285</th>\n",
       "      <td>Train/5/00005_00013_00000.png</td>\n",
       "      <td>5</td>\n",
       "    </tr>\n",
       "    <tr>\n",
       "      <th>5187</th>\n",
       "      <td>Train/3/00003_00005_00013.png</td>\n",
       "      <td>3</td>\n",
       "    </tr>\n",
       "    <tr>\n",
       "      <th>19913</th>\n",
       "      <td>Train/12/00012_00048_00011.png</td>\n",
       "      <td>12</td>\n",
       "    </tr>\n",
       "    <tr>\n",
       "      <th>2617</th>\n",
       "      <td>Train/2/00002_00050_00022.png</td>\n",
       "      <td>2</td>\n",
       "    </tr>\n",
       "    <tr>\n",
       "      <th>37952</th>\n",
       "      <td>Train/38/00038_00068_00003.png</td>\n",
       "      <td>38</td>\n",
       "    </tr>\n",
       "    <tr>\n",
       "      <th>3969</th>\n",
       "      <td>Train/2/00002_00073_00018.png</td>\n",
       "      <td>2</td>\n",
       "    </tr>\n",
       "    <tr>\n",
       "      <th>11943</th>\n",
       "      <td>Train/8/00008_00027_00012.png</td>\n",
       "      <td>8</td>\n",
       "    </tr>\n",
       "  </tbody>\n",
       "</table>\n",
       "</div>"
      ],
      "text/plain": [
       "                                  img label\n",
       "34242  Train/35/00035_00029_00026.png    35\n",
       "27695  Train/23/00023_00014_00015.png    23\n",
       "24340  Train/17/00017_00026_00017.png    17\n",
       "9285    Train/5/00005_00013_00000.png     5\n",
       "5187    Train/3/00003_00005_00013.png     3\n",
       "19913  Train/12/00012_00048_00011.png    12\n",
       "2617    Train/2/00002_00050_00022.png     2\n",
       "37952  Train/38/00038_00068_00003.png    38\n",
       "3969    Train/2/00002_00073_00018.png     2\n",
       "11943   Train/8/00008_00027_00012.png     8"
      ]
     },
     "execution_count": 7,
     "metadata": {},
     "output_type": "execute_result"
    }
   ],
   "source": [
    "df.sample(10)"
   ]
  },
  {
   "cell_type": "code",
   "execution_count": 8,
   "id": "26c46b73",
   "metadata": {},
   "outputs": [
    {
     "data": {
      "text/plain": [
       "(39209, 2)"
      ]
     },
     "execution_count": 8,
     "metadata": {},
     "output_type": "execute_result"
    }
   ],
   "source": [
    "df.shape"
   ]
  },
  {
   "cell_type": "code",
   "execution_count": 9,
   "id": "d40320b8",
   "metadata": {},
   "outputs": [
    {
     "data": {
      "text/html": [
       "<div>\n",
       "<style scoped>\n",
       "    .dataframe tbody tr th:only-of-type {\n",
       "        vertical-align: middle;\n",
       "    }\n",
       "\n",
       "    .dataframe tbody tr th {\n",
       "        vertical-align: top;\n",
       "    }\n",
       "\n",
       "    .dataframe thead th {\n",
       "        text-align: right;\n",
       "    }\n",
       "</style>\n",
       "<table border=\"1\" class=\"dataframe\">\n",
       "  <thead>\n",
       "    <tr style=\"text-align: right;\">\n",
       "      <th></th>\n",
       "      <th>img</th>\n",
       "      <th>label</th>\n",
       "    </tr>\n",
       "  </thead>\n",
       "  <tbody>\n",
       "    <tr>\n",
       "      <th>0</th>\n",
       "      <td>Train/0/00000_00005_00023.png</td>\n",
       "      <td>0</td>\n",
       "    </tr>\n",
       "    <tr>\n",
       "      <th>1</th>\n",
       "      <td>Train/0/00000_00006_00017.png</td>\n",
       "      <td>0</td>\n",
       "    </tr>\n",
       "    <tr>\n",
       "      <th>2</th>\n",
       "      <td>Train/0/00000_00006_00003.png</td>\n",
       "      <td>0</td>\n",
       "    </tr>\n",
       "    <tr>\n",
       "      <th>3</th>\n",
       "      <td>Train/0/00000_00003_00018.png</td>\n",
       "      <td>0</td>\n",
       "    </tr>\n",
       "    <tr>\n",
       "      <th>4</th>\n",
       "      <td>Train/0/00000_00003_00024.png</td>\n",
       "      <td>0</td>\n",
       "    </tr>\n",
       "  </tbody>\n",
       "</table>\n",
       "</div>"
      ],
      "text/plain": [
       "                             img label\n",
       "0  Train/0/00000_00005_00023.png     0\n",
       "1  Train/0/00000_00006_00017.png     0\n",
       "2  Train/0/00000_00006_00003.png     0\n",
       "3  Train/0/00000_00003_00018.png     0\n",
       "4  Train/0/00000_00003_00024.png     0"
      ]
     },
     "execution_count": 9,
     "metadata": {},
     "output_type": "execute_result"
    }
   ],
   "source": [
    "df.head()"
   ]
  },
  {
   "cell_type": "code",
   "execution_count": 10,
   "id": "4acf6360",
   "metadata": {},
   "outputs": [],
   "source": [
    "label_names = {\n",
    "            0: 'Speed limit (20km/h)',\n",
    "            1: 'Speed limit (30km/h)', \n",
    "            2: 'Speed limit (50km/h)', \n",
    "            3: 'Speed limit (60km/h)', \n",
    "            4: 'Speed limit (70km/h)', \n",
    "            5: 'Speed limit (80km/h)', \n",
    "            6: 'End of speed limit (80km/h)', \n",
    "            7: 'Speed limit (100km/h)', \n",
    "            8: 'Speed limit (120km/h)', \n",
    "            9: 'No passing', \n",
    "            10: 'No passing veh over 3.5 tons', \n",
    "            11: 'Right-of-way at intersection', \n",
    "            12: 'Priority road', \n",
    "            13: 'Yield', \n",
    "            14: 'Stop', \n",
    "            15: 'No vehicles', \n",
    "            16: 'Veh > 3.5 tons prohibited', \n",
    "            17: 'No entry', \n",
    "            18: 'General caution', \n",
    "            19: 'Dangerous curve left', \n",
    "            20: 'Dangerous curve right', \n",
    "            21: 'Double curve', \n",
    "            22: 'Bumpy road', \n",
    "            23: 'Slippery road', \n",
    "            24: 'Road narrows on the right', \n",
    "            25: 'Road work', \n",
    "            26: 'Traffic signals', \n",
    "            27: 'Pedestrians', \n",
    "            28: 'Children crossing', \n",
    "            29: 'Bicycles crossing', \n",
    "            30: 'Beware of ice/snow',\n",
    "            31: 'Wild animals crossing', \n",
    "            32: 'End speed + passing limits', \n",
    "            33: 'Turn right ahead', \n",
    "            34: 'Turn left ahead', \n",
    "            35: 'Ahead only', \n",
    "            36: 'Go straight or right', \n",
    "            37: 'Go straight or left', \n",
    "            38: 'Keep right', \n",
    "            39: 'Keep left', \n",
    "            40: 'Roundabout mandatory', \n",
    "            41: 'End of no passing', \n",
    "            42: 'End no passing veh > 3.5 tons'\n",
    "}"
   ]
  },
  {
   "cell_type": "code",
   "execution_count": 11,
   "id": "db157b50",
   "metadata": {},
   "outputs": [],
   "source": [
    "df['label'] = df['label'].astype(int)"
   ]
  },
  {
   "cell_type": "code",
   "execution_count": 12,
   "id": "e15a9574",
   "metadata": {},
   "outputs": [],
   "source": [
    "df['label_name'] = df['label'].map(label_names)"
   ]
  },
  {
   "cell_type": "code",
   "execution_count": 13,
   "id": "482322d5",
   "metadata": {},
   "outputs": [
    {
     "data": {
      "text/html": [
       "<div>\n",
       "<style scoped>\n",
       "    .dataframe tbody tr th:only-of-type {\n",
       "        vertical-align: middle;\n",
       "    }\n",
       "\n",
       "    .dataframe tbody tr th {\n",
       "        vertical-align: top;\n",
       "    }\n",
       "\n",
       "    .dataframe thead th {\n",
       "        text-align: right;\n",
       "    }\n",
       "</style>\n",
       "<table border=\"1\" class=\"dataframe\">\n",
       "  <thead>\n",
       "    <tr style=\"text-align: right;\">\n",
       "      <th></th>\n",
       "      <th>img</th>\n",
       "      <th>label</th>\n",
       "      <th>label_name</th>\n",
       "    </tr>\n",
       "  </thead>\n",
       "  <tbody>\n",
       "    <tr>\n",
       "      <th>0</th>\n",
       "      <td>Train/0/00000_00005_00023.png</td>\n",
       "      <td>0</td>\n",
       "      <td>Speed limit (20km/h)</td>\n",
       "    </tr>\n",
       "    <tr>\n",
       "      <th>1</th>\n",
       "      <td>Train/0/00000_00006_00017.png</td>\n",
       "      <td>0</td>\n",
       "      <td>Speed limit (20km/h)</td>\n",
       "    </tr>\n",
       "    <tr>\n",
       "      <th>2</th>\n",
       "      <td>Train/0/00000_00006_00003.png</td>\n",
       "      <td>0</td>\n",
       "      <td>Speed limit (20km/h)</td>\n",
       "    </tr>\n",
       "    <tr>\n",
       "      <th>3</th>\n",
       "      <td>Train/0/00000_00003_00018.png</td>\n",
       "      <td>0</td>\n",
       "      <td>Speed limit (20km/h)</td>\n",
       "    </tr>\n",
       "    <tr>\n",
       "      <th>4</th>\n",
       "      <td>Train/0/00000_00003_00024.png</td>\n",
       "      <td>0</td>\n",
       "      <td>Speed limit (20km/h)</td>\n",
       "    </tr>\n",
       "  </tbody>\n",
       "</table>\n",
       "</div>"
      ],
      "text/plain": [
       "                             img  label            label_name\n",
       "0  Train/0/00000_00005_00023.png      0  Speed limit (20km/h)\n",
       "1  Train/0/00000_00006_00017.png      0  Speed limit (20km/h)\n",
       "2  Train/0/00000_00006_00003.png      0  Speed limit (20km/h)\n",
       "3  Train/0/00000_00003_00018.png      0  Speed limit (20km/h)\n",
       "4  Train/0/00000_00003_00024.png      0  Speed limit (20km/h)"
      ]
     },
     "execution_count": 13,
     "metadata": {},
     "output_type": "execute_result"
    }
   ],
   "source": [
    "df.head()"
   ]
  },
  {
   "cell_type": "code",
   "execution_count": 14,
   "id": "12172ada",
   "metadata": {},
   "outputs": [],
   "source": [
    "import matplotlib.pyplot as plt"
   ]
  },
  {
   "cell_type": "code",
   "execution_count": 15,
   "id": "a0c52da4",
   "metadata": {},
   "outputs": [],
   "source": [
    "image=cv2.imread(str(df['img'][500])) "
   ]
  },
  {
   "cell_type": "code",
   "execution_count": 16,
   "id": "606453b4",
   "metadata": {},
   "outputs": [
    {
     "data": {
      "image/png": "[encoded data removed]",
      "text/plain": [
       "<Figure size 640x480 with 1 Axes>"
      ]
     },
     "metadata": {},
     "output_type": "display_data"
    }
   ],
   "source": [
    "plt.imshow(image);"
   ]
  },
  {
   "cell_type": "markdown",
   "id": "e0b013a2",
   "metadata": {},
   "source": [
    "\n",
    "### Here we normalize and shrink the images"
   ]
  },
  {
   "cell_type": "code",
   "execution_count": 17,
   "id": "2d4f297d",
   "metadata": {},
   "outputs": [],
   "source": [
    "import matplotlib.pyplot as plt"
   ]
  },
  {
   "cell_type": "code",
   "execution_count": 18,
   "id": "18f75ef0",
   "metadata": {
    "scrolled": true
   },
   "outputs": [],
   "source": [
    "x=[]\n",
    "for img in df['img']:\n",
    "    img=cv2.imread(img)\n",
    "    img=cv2.resize(img,(30,30))\n",
    "    img=img/255.0    \n",
    "    x.append(img)"
   ]
  },
  {
   "cell_type": "code",
   "execution_count": 19,
   "id": "00517fa1",
   "metadata": {},
   "outputs": [],
   "source": [
    "import numpy as np"
   ]
  },
  {
   "cell_type": "code",
   "execution_count": 20,
   "id": "5d870aba",
   "metadata": {},
   "outputs": [],
   "source": [
    "x=np.array(x)"
   ]
  },
  {
   "cell_type": "code",
   "execution_count": 21,
   "id": "735f06a3",
   "metadata": {
    "scrolled": true
   },
   "outputs": [
    {
     "data": {
      "text/plain": [
       "array([[[[0.65098039, 0.65882353, 0.7372549 ],\n",
       "         [0.40392157, 0.49019608, 0.66666667],\n",
       "         [0.34117647, 0.46666667, 0.67843137],\n",
       "         ...,\n",
       "         [0.34509804, 0.47843137, 0.70196078],\n",
       "         [0.36862745, 0.51372549, 0.70980392],\n",
       "         [0.36862745, 0.49803922, 0.71372549]],\n",
       "\n",
       "        [[0.5372549 , 0.59607843, 0.67058824],\n",
       "         [0.34901961, 0.45098039, 0.63529412],\n",
       "         [0.34117647, 0.4627451 , 0.65490196],\n",
       "         ...,\n",
       "         [0.3372549 , 0.46666667, 0.65490196],\n",
       "         [0.35294118, 0.47843137, 0.64705882],\n",
       "         [0.35294118, 0.47058824, 0.65098039]],\n",
       "\n",
       "        [[0.58431373, 0.60784314, 0.70588235],\n",
       "         [0.5254902 , 0.57647059, 0.69019608],\n",
       "         [0.52156863, 0.56078431, 0.70980392],\n",
       "         ...,\n",
       "         [0.61960784, 0.65098039, 0.70196078],\n",
       "         [0.61960784, 0.65490196, 0.70588235],\n",
       "         [0.62745098, 0.6627451 , 0.70980392]],\n",
       "\n",
       "        ...,\n",
       "\n",
       "        [[0.4       , 0.37647059, 0.36078431],\n",
       "         [0.36470588, 0.36078431, 0.35686275],\n",
       "         [0.34901961, 0.36470588, 0.35686275],\n",
       "         ...,\n",
       "         [0.37647059, 0.39215686, 0.39215686],\n",
       "         [0.38039216, 0.39215686, 0.41960784],\n",
       "         [0.38039216, 0.40392157, 0.43137255]],\n",
       "\n",
       "        [[0.41568627, 0.39215686, 0.38431373],\n",
       "         [0.38039216, 0.38431373, 0.38431373],\n",
       "         [0.38431373, 0.39215686, 0.37647059],\n",
       "         ...,\n",
       "         [0.36862745, 0.39215686, 0.39215686],\n",
       "         [0.40392157, 0.41960784, 0.42745098],\n",
       "         [0.42745098, 0.44313725, 0.4627451 ]],\n",
       "\n",
       "        [[0.38431373, 0.40392157, 0.39607843],\n",
       "         [0.39607843, 0.41568627, 0.40784314],\n",
       "         [0.38823529, 0.39607843, 0.39607843],\n",
       "         ...,\n",
       "         [0.38823529, 0.40392157, 0.40392157],\n",
       "         [0.41176471, 0.42745098, 0.41960784],\n",
       "         [0.40784314, 0.41568627, 0.41568627]]],\n",
       "\n",
       "\n",
       "       [[[0.33333333, 0.58823529, 0.51764706],\n",
       "         [0.29411765, 0.55686275, 0.47058824],\n",
       "         [0.29411765, 0.54509804, 0.46666667],\n",
       "         ...,\n",
       "         [0.2745098 , 0.45882353, 0.41960784],\n",
       "         [0.26666667, 0.43137255, 0.41568627],\n",
       "         [0.30588235, 0.43921569, 0.43921569]],\n",
       "\n",
       "        [[0.29019608, 0.5372549 , 0.45490196],\n",
       "         [0.30196078, 0.56078431, 0.47843137],\n",
       "         [0.31764706, 0.56470588, 0.49019608],\n",
       "         ...,\n",
       "         [0.25882353, 0.45882353, 0.40392157],\n",
       "         [0.24705882, 0.41960784, 0.39607843],\n",
       "         [0.24313725, 0.39215686, 0.38823529]],\n",
       "\n",
       "        [[0.28627451, 0.51372549, 0.42352941],\n",
       "         [0.29411765, 0.5254902 , 0.43921569],\n",
       "         [0.30196078, 0.51372549, 0.44313725],\n",
       "         ...,\n",
       "         [0.30588235, 0.49411765, 0.45882353],\n",
       "         [0.27058824, 0.45490196, 0.40784314],\n",
       "         [0.29019608, 0.45098039, 0.39215686]],\n",
       "\n",
       "        ...,\n",
       "\n",
       "        [[0.41568627, 0.34117647, 0.29411765],\n",
       "         [0.19215686, 0.16078431, 0.20784314],\n",
       "         [0.15686275, 0.11764706, 0.12941176],\n",
       "         ...,\n",
       "         [0.23137255, 0.25490196, 0.23529412],\n",
       "         [0.21568627, 0.25490196, 0.25098039],\n",
       "         [0.2       , 0.25490196, 0.25098039]],\n",
       "\n",
       "        [[0.1372549 , 0.12156863, 0.12156863],\n",
       "         [0.13333333, 0.11372549, 0.11372549],\n",
       "         [0.12941176, 0.10980392, 0.10980392],\n",
       "         ...,\n",
       "         [0.14117647, 0.14117647, 0.12941176],\n",
       "         [0.18823529, 0.2       , 0.20392157],\n",
       "         [0.21176471, 0.23137255, 0.23921569]],\n",
       "\n",
       "        [[0.21960784, 0.24313725, 0.22745098],\n",
       "         [0.21960784, 0.23921569, 0.23921569],\n",
       "         [0.20392157, 0.21960784, 0.21960784],\n",
       "         ...,\n",
       "         [0.20392157, 0.2       , 0.18823529],\n",
       "         [0.21568627, 0.22745098, 0.24313725],\n",
       "         [0.2       , 0.22352941, 0.25098039]]],\n",
       "\n",
       "\n",
       "       [[[0.27058824, 0.29411765, 0.37647059],\n",
       "         [0.24705882, 0.2745098 , 0.32156863],\n",
       "         [0.25098039, 0.27058824, 0.30588235],\n",
       "         ...,\n",
       "         [0.16470588, 0.18823529, 0.20784314],\n",
       "         [0.16078431, 0.19215686, 0.21960784],\n",
       "         [0.14901961, 0.2       , 0.21960784]],\n",
       "\n",
       "        [[0.25882353, 0.28627451, 0.34117647],\n",
       "         [0.26666667, 0.30196078, 0.34117647],\n",
       "         [0.2745098 , 0.30588235, 0.33333333],\n",
       "         ...,\n",
       "         [0.15686275, 0.18039216, 0.20784314],\n",
       "         [0.15294118, 0.18431373, 0.21568627],\n",
       "         [0.15294118, 0.19215686, 0.22352941]],\n",
       "\n",
       "        [[0.2745098 , 0.31764706, 0.35686275],\n",
       "         [0.27058824, 0.3372549 , 0.35686275],\n",
       "         [0.24313725, 0.34509804, 0.34901961],\n",
       "         ...,\n",
       "         [0.14509804, 0.18431373, 0.21568627],\n",
       "         [0.14901961, 0.18431373, 0.22352941],\n",
       "         [0.12941176, 0.16078431, 0.19607843]],\n",
       "\n",
       "        ...,\n",
       "\n",
       "        [[0.92156863, 0.99215686, 1.        ],\n",
       "         [0.69411765, 0.8       , 0.9254902 ],\n",
       "         [0.36470588, 0.38823529, 0.54509804],\n",
       "         ...,\n",
       "         [0.18823529, 0.20392157, 0.21568627],\n",
       "         [0.21568627, 0.23137255, 0.24705882],\n",
       "         [0.19607843, 0.22352941, 0.24313725]],\n",
       "\n",
       "        [[0.94901961, 0.98823529, 0.98823529],\n",
       "         [0.67843137, 0.77254902, 0.8627451 ],\n",
       "         [0.38039216, 0.38823529, 0.49411765],\n",
       "         ...,\n",
       "         [0.16862745, 0.18039216, 0.19607843],\n",
       "         [0.2       , 0.21176471, 0.22352941],\n",
       "         [0.19607843, 0.21568627, 0.22745098]],\n",
       "\n",
       "        [[0.87058824, 0.90196078, 0.88235294],\n",
       "         [0.62352941, 0.70196078, 0.71764706],\n",
       "         [0.38039216, 0.38823529, 0.40784314],\n",
       "         ...,\n",
       "         [0.16862745, 0.18039216, 0.19607843],\n",
       "         [0.18823529, 0.2       , 0.22352941],\n",
       "         [0.20392157, 0.21960784, 0.24313725]]],\n",
       "\n",
       "\n",
       "       ...,\n",
       "\n",
       "\n",
       "       [[[0.0745098 , 0.08627451, 0.10196078],\n",
       "         [0.0745098 , 0.08627451, 0.09411765],\n",
       "         [0.0745098 , 0.08627451, 0.09803922],\n",
       "         ...,\n",
       "         [0.0745098 , 0.08235294, 0.09803922],\n",
       "         [0.08235294, 0.09019608, 0.09803922],\n",
       "         [0.09019608, 0.10196078, 0.11372549]],\n",
       "\n",
       "        [[0.07843137, 0.08627451, 0.09411765],\n",
       "         [0.08627451, 0.09803922, 0.10588235],\n",
       "         [0.08235294, 0.09803922, 0.10588235],\n",
       "         ...,\n",
       "         [0.0745098 , 0.08235294, 0.09803922],\n",
       "         [0.08235294, 0.09411765, 0.09803922],\n",
       "         [0.08627451, 0.09803922, 0.10196078]],\n",
       "\n",
       "        [[0.09019608, 0.09019608, 0.09019608],\n",
       "         [0.08627451, 0.09411765, 0.10196078],\n",
       "         [0.07843137, 0.09411765, 0.10196078],\n",
       "         ...,\n",
       "         [0.06666667, 0.07843137, 0.09019608],\n",
       "         [0.08627451, 0.10196078, 0.10980392],\n",
       "         [0.08627451, 0.10196078, 0.10980392]],\n",
       "\n",
       "        ...,\n",
       "\n",
       "        [[0.07058824, 0.0745098 , 0.08235294],\n",
       "         [0.06666667, 0.07058824, 0.07843137],\n",
       "         [0.08235294, 0.08627451, 0.09411765],\n",
       "         ...,\n",
       "         [0.09019608, 0.10588235, 0.1254902 ],\n",
       "         [0.09019608, 0.11764706, 0.16862745],\n",
       "         [0.08235294, 0.13333333, 0.21176471]],\n",
       "\n",
       "        [[0.0627451 , 0.07058824, 0.0745098 ],\n",
       "         [0.06666667, 0.0745098 , 0.08235294],\n",
       "         [0.0745098 , 0.08235294, 0.09019608],\n",
       "         ...,\n",
       "         [0.09411765, 0.10980392, 0.12941176],\n",
       "         [0.09019608, 0.11764706, 0.15294118],\n",
       "         [0.07843137, 0.13333333, 0.2       ]],\n",
       "\n",
       "        [[0.0627451 , 0.08235294, 0.09019608],\n",
       "         [0.06666667, 0.08627451, 0.09411765],\n",
       "         [0.06666667, 0.08235294, 0.09411765],\n",
       "         ...,\n",
       "         [0.08627451, 0.10196078, 0.11372549],\n",
       "         [0.09411765, 0.11372549, 0.14901961],\n",
       "         [0.08627451, 0.13333333, 0.19607843]]],\n",
       "\n",
       "\n",
       "       [[[0.06666667, 0.05882353, 0.05882353],\n",
       "         [0.0627451 , 0.05882353, 0.0627451 ],\n",
       "         [0.06666667, 0.05882353, 0.06666667],\n",
       "         ...,\n",
       "         [0.05882353, 0.04705882, 0.04705882],\n",
       "         [0.0627451 , 0.04705882, 0.04705882],\n",
       "         [0.05882353, 0.04705882, 0.05098039]],\n",
       "\n",
       "        [[0.08235294, 0.07843137, 0.08235294],\n",
       "         [0.06666667, 0.07058824, 0.0745098 ],\n",
       "         [0.06666667, 0.0627451 , 0.06666667],\n",
       "         ...,\n",
       "         [0.05490196, 0.04705882, 0.04705882],\n",
       "         [0.05882353, 0.04313725, 0.04705882],\n",
       "         [0.05882353, 0.04705882, 0.05098039]],\n",
       "\n",
       "        [[0.0627451 , 0.05882353, 0.06666667],\n",
       "         [0.05098039, 0.05098039, 0.05490196],\n",
       "         [0.0627451 , 0.05882353, 0.0627451 ],\n",
       "         ...,\n",
       "         [0.05490196, 0.04313725, 0.04705882],\n",
       "         [0.05882353, 0.04313725, 0.04705882],\n",
       "         [0.05490196, 0.04313725, 0.05098039]],\n",
       "\n",
       "        ...,\n",
       "\n",
       "        [[0.05882353, 0.04705882, 0.05098039],\n",
       "         [0.0627451 , 0.04705882, 0.04705882],\n",
       "         [0.0627451 , 0.05098039, 0.05098039],\n",
       "         ...,\n",
       "         [0.05882353, 0.04705882, 0.05098039],\n",
       "         [0.05882353, 0.04313725, 0.05098039],\n",
       "         [0.05490196, 0.03921569, 0.04705882]],\n",
       "\n",
       "        [[0.0627451 , 0.05098039, 0.05098039],\n",
       "         [0.0627451 , 0.05098039, 0.05098039],\n",
       "         [0.0627451 , 0.05098039, 0.05490196],\n",
       "         ...,\n",
       "         [0.05490196, 0.04313725, 0.04705882],\n",
       "         [0.05882353, 0.04705882, 0.05490196],\n",
       "         [0.04705882, 0.03921569, 0.05098039]],\n",
       "\n",
       "        [[0.05882353, 0.05098039, 0.05490196],\n",
       "         [0.05882353, 0.04705882, 0.04705882],\n",
       "         [0.0627451 , 0.05098039, 0.05098039],\n",
       "         ...,\n",
       "         [0.05490196, 0.04313725, 0.05098039],\n",
       "         [0.05098039, 0.04313725, 0.05098039],\n",
       "         [0.04705882, 0.04313725, 0.05098039]]],\n",
       "\n",
       "\n",
       "       [[[0.05490196, 0.04705882, 0.05098039],\n",
       "         [0.05098039, 0.04313725, 0.04313725],\n",
       "         [0.05490196, 0.04313725, 0.04313725],\n",
       "         ...,\n",
       "         [0.10588235, 0.10196078, 0.10980392],\n",
       "         [0.06666667, 0.0627451 , 0.0745098 ],\n",
       "         [0.05098039, 0.04313725, 0.04705882]],\n",
       "\n",
       "        [[0.05490196, 0.04705882, 0.04705882],\n",
       "         [0.05490196, 0.04313725, 0.04313725],\n",
       "         [0.05490196, 0.04313725, 0.04705882],\n",
       "         ...,\n",
       "         [0.09019608, 0.08627451, 0.09803922],\n",
       "         [0.06666667, 0.05882353, 0.06666667],\n",
       "         [0.05490196, 0.04705882, 0.05098039]],\n",
       "\n",
       "        [[0.05882353, 0.04705882, 0.04705882],\n",
       "         [0.05882353, 0.04705882, 0.04705882],\n",
       "         [0.05490196, 0.04705882, 0.05098039],\n",
       "         ...,\n",
       "         [0.07058824, 0.07058824, 0.0745098 ],\n",
       "         [0.05882353, 0.05490196, 0.05490196],\n",
       "         [0.05098039, 0.04705882, 0.05490196]],\n",
       "\n",
       "        ...,\n",
       "\n",
       "        [[0.07843137, 0.05490196, 0.05098039],\n",
       "         [0.09411765, 0.07058824, 0.07058824],\n",
       "         [0.06666667, 0.05490196, 0.05490196],\n",
       "         ...,\n",
       "         [0.05882353, 0.04705882, 0.05882353],\n",
       "         [0.0745098 , 0.05098039, 0.04705882],\n",
       "         [0.12156863, 0.08627451, 0.07058824]],\n",
       "\n",
       "        [[0.0745098 , 0.05490196, 0.04313725],\n",
       "         [0.09019608, 0.0627451 , 0.0627451 ],\n",
       "         [0.07058824, 0.05490196, 0.05490196],\n",
       "         ...,\n",
       "         [0.05490196, 0.04705882, 0.05490196],\n",
       "         [0.10980392, 0.09411765, 0.10980392],\n",
       "         [0.11764706, 0.10196078, 0.1372549 ]],\n",
       "\n",
       "        [[0.07058824, 0.05098039, 0.05098039],\n",
       "         [0.0745098 , 0.05490196, 0.05490196],\n",
       "         [0.0745098 , 0.05490196, 0.05490196],\n",
       "         ...,\n",
       "         [0.05490196, 0.04705882, 0.05098039],\n",
       "         [0.06666667, 0.08235294, 0.09411765],\n",
       "         [0.0627451 , 0.07843137, 0.10588235]]]])"
      ]
     },
     "execution_count": 21,
     "metadata": {},
     "output_type": "execute_result"
    }
   ],
   "source": [
    "x"
   ]
  },
  {
   "cell_type": "code",
   "execution_count": 22,
   "id": "1d13e44c",
   "metadata": {},
   "outputs": [],
   "source": [
    "y=df['label']"
   ]
  },
  {
   "cell_type": "code",
   "execution_count": 23,
   "id": "60eabe25",
   "metadata": {
    "collapsed": true
   },
   "outputs": [
    {
     "data": {
      "text/plain": [
       "label\n",
       "2     2250\n",
       "1     2220\n",
       "13    2160\n",
       "12    2100\n",
       "38    2070\n",
       "10    2010\n",
       "4     1980\n",
       "5     1860\n",
       "25    1500\n",
       "9     1470\n",
       "7     1440\n",
       "3     1410\n",
       "8     1410\n",
       "11    1320\n",
       "35    1200\n",
       "18    1200\n",
       "17    1110\n",
       "31     780\n",
       "14     780\n",
       "33     689\n",
       "15     630\n",
       "26     600\n",
       "28     540\n",
       "23     510\n",
       "30     450\n",
       "16     420\n",
       "34     420\n",
       "6      420\n",
       "36     390\n",
       "22     390\n",
       "40     360\n",
       "20     360\n",
       "21     330\n",
       "39     300\n",
       "29     270\n",
       "24     270\n",
       "41     240\n",
       "42     240\n",
       "32     240\n",
       "27     240\n",
       "37     210\n",
       "19     210\n",
       "0      210\n",
       "Name: count, dtype: int64"
      ]
     },
     "execution_count": 23,
     "metadata": {},
     "output_type": "execute_result"
    }
   ],
   "source": [
    "y.value_counts()"
   ]
  },
  {
   "cell_type": "markdown",
   "id": "ce0c20f3",
   "metadata": {},
   "source": [
    "### We train our model"
   ]
  },
  {
   "cell_type": "code",
   "execution_count": 24,
   "id": "678ad844",
   "metadata": {},
   "outputs": [],
   "source": [
    "from sklearn.model_selection import train_test_split"
   ]
  },
  {
   "cell_type": "code",
   "execution_count": 25,
   "id": "2d442cb7",
   "metadata": {},
   "outputs": [],
   "source": [
    "x_train,x_test,y_train,y_test=train_test_split(x,y,test_size=.20,random_state=42)"
   ]
  },
  {
   "cell_type": "code",
   "execution_count": 26,
   "id": "48776798",
   "metadata": {},
   "outputs": [],
   "source": [
    "#pip install tensorflow"
   ]
  },
  {
   "cell_type": "code",
   "execution_count": 27,
   "id": "5018f7b0",
   "metadata": {},
   "outputs": [],
   "source": [
    "from keras.models import Sequential\n",
    "from keras.layers import Dense,Conv2D, Input, Reshape, MaxPooling2D, Flatten, Dropout, BatchNormalization"
   ]
  },
  {
   "cell_type": "markdown",
   "id": "f0f38507",
   "metadata": {},
   "source": [
    "### CNN Convuliton Neural Networks"
   ]
  },
  {
   "cell_type": "code",
   "execution_count": 28,
   "id": "bc31c86e",
   "metadata": {},
   "outputs": [],
   "source": [
    "model=Sequential()\n",
    "model.add(Input(shape=(30,30,3)))\n",
    "\n",
    "model.add(Conv2D(43,kernel_size=(3,3),activation='relu'))\n",
    "\n",
    "model.add(Conv2D(64,kernel_size=(3,3),activation='relu'))\n",
    "model.add(BatchNormalization())\n",
    "model.add(MaxPooling2D(pool_size=(2,2)))\n",
    "model.add(Flatten())\n",
    "model.add(Dropout(.25))\n",
    "model.add(Dense(64))\n",
    "model.add(Dense(43, activation='softmax')) \n",
    "model.compile(optimizer='adam',loss='sparse_categorical_crossentropy',metrics=['accuracy'])"
   ]
  },
  {
   "cell_type": "code",
   "execution_count": 29,
   "id": "8914a0ac",
   "metadata": {},
   "outputs": [
    {
     "name": "stdout",
     "output_type": "stream",
     "text": [
      "Epoch 1/20\n",
      "\u001b[1m981/981\u001b[0m \u001b[32m━━━━━━━━━━━━━━━━━━━━\u001b[0m\u001b[37m\u001b[0m \u001b[1m36s\u001b[0m 36ms/step - accuracy: 0.7367 - loss: 1.0781 - val_accuracy: 0.9318 - val_loss: 0.2475\n",
      "Epoch 2/20\n",
      "\u001b[1m981/981\u001b[0m \u001b[32m━━━━━━━━━━━━━━━━━━━━\u001b[0m\u001b[37m\u001b[0m \u001b[1m38s\u001b[0m 39ms/step - accuracy: 0.9673 - loss: 0.1160 - val_accuracy: 0.9663 - val_loss: 0.1311\n",
      "Epoch 3/20\n",
      "\u001b[1m981/981\u001b[0m \u001b[32m━━━━━━━━━━━━━━━━━━━━\u001b[0m\u001b[37m\u001b[0m \u001b[1m40s\u001b[0m 41ms/step - accuracy: 0.9776 - loss: 0.0748 - val_accuracy: 0.9235 - val_loss: 0.3934\n",
      "Epoch 4/20\n",
      "\u001b[1m981/981\u001b[0m \u001b[32m━━━━━━━━━━━━━━━━━━━━\u001b[0m\u001b[37m\u001b[0m \u001b[1m40s\u001b[0m 41ms/step - accuracy: 0.9761 - loss: 0.0805 - val_accuracy: 0.9723 - val_loss: 0.1288\n",
      "Epoch 5/20\n",
      "\u001b[1m981/981\u001b[0m \u001b[32m━━━━━━━━━━━━━━━━━━━━\u001b[0m\u001b[37m\u001b[0m \u001b[1m41s\u001b[0m 41ms/step - accuracy: 0.9867 - loss: 0.0494 - val_accuracy: 0.9820 - val_loss: 0.0861\n",
      "Epoch 6/20\n",
      "\u001b[1m981/981\u001b[0m \u001b[32m━━━━━━━━━━━━━━━━━━━━\u001b[0m\u001b[37m\u001b[0m \u001b[1m40s\u001b[0m 41ms/step - accuracy: 0.9833 - loss: 0.0560 - val_accuracy: 0.9663 - val_loss: 0.1878\n",
      "Epoch 7/20\n",
      "\u001b[1m981/981\u001b[0m \u001b[32m━━━━━━━━━━━━━━━━━━━━\u001b[0m\u001b[37m\u001b[0m \u001b[1m40s\u001b[0m 40ms/step - accuracy: 0.9866 - loss: 0.0512 - val_accuracy: 0.9793 - val_loss: 0.1232\n",
      "Epoch 8/20\n",
      "\u001b[1m981/981\u001b[0m \u001b[32m━━━━━━━━━━━━━━━━━━━━\u001b[0m\u001b[37m\u001b[0m \u001b[1m40s\u001b[0m 40ms/step - accuracy: 0.9890 - loss: 0.0409 - val_accuracy: 0.9805 - val_loss: 0.1240\n",
      "Epoch 9/20\n",
      "\u001b[1m981/981\u001b[0m \u001b[32m━━━━━━━━━━━━━━━━━━━━\u001b[0m\u001b[37m\u001b[0m \u001b[1m40s\u001b[0m 41ms/step - accuracy: 0.9912 - loss: 0.0319 - val_accuracy: 0.9802 - val_loss: 0.1341\n",
      "Epoch 10/20\n",
      "\u001b[1m981/981\u001b[0m \u001b[32m━━━━━━━━━━━━━━━━━━━━\u001b[0m\u001b[37m\u001b[0m \u001b[1m40s\u001b[0m 41ms/step - accuracy: 0.9880 - loss: 0.0491 - val_accuracy: 0.9857 - val_loss: 0.0998\n",
      "Epoch 11/20\n",
      "\u001b[1m981/981\u001b[0m \u001b[32m━━━━━━━━━━━━━━━━━━━━\u001b[0m\u001b[37m\u001b[0m \u001b[1m41s\u001b[0m 41ms/step - accuracy: 0.9923 - loss: 0.0293 - val_accuracy: 0.9796 - val_loss: 0.1078\n",
      "Epoch 12/20\n",
      "\u001b[1m981/981\u001b[0m \u001b[32m━━━━━━━━━━━━━━━━━━━━\u001b[0m\u001b[37m\u001b[0m \u001b[1m40s\u001b[0m 41ms/step - accuracy: 0.9915 - loss: 0.0342 - val_accuracy: 0.9880 - val_loss: 0.0950\n",
      "Epoch 13/20\n",
      "\u001b[1m981/981\u001b[0m \u001b[32m━━━━━━━━━━━━━━━━━━━━\u001b[0m\u001b[37m\u001b[0m \u001b[1m39s\u001b[0m 40ms/step - accuracy: 0.9933 - loss: 0.0271 - val_accuracy: 0.9870 - val_loss: 0.1029\n",
      "Epoch 14/20\n",
      "\u001b[1m981/981\u001b[0m \u001b[32m━━━━━━━━━━━━━━━━━━━━\u001b[0m\u001b[37m\u001b[0m \u001b[1m40s\u001b[0m 41ms/step - accuracy: 0.9915 - loss: 0.0343 - val_accuracy: 0.9819 - val_loss: 0.1156\n",
      "Epoch 15/20\n",
      "\u001b[1m981/981\u001b[0m \u001b[32m━━━━━━━━━━━━━━━━━━━━\u001b[0m\u001b[37m\u001b[0m \u001b[1m41s\u001b[0m 42ms/step - accuracy: 0.9899 - loss: 0.0466 - val_accuracy: 0.9745 - val_loss: 0.1814\n",
      "Epoch 16/20\n",
      "\u001b[1m981/981\u001b[0m \u001b[32m━━━━━━━━━━━━━━━━━━━━\u001b[0m\u001b[37m\u001b[0m \u001b[1m41s\u001b[0m 42ms/step - accuracy: 0.9916 - loss: 0.0321 - val_accuracy: 0.9898 - val_loss: 0.0672\n",
      "Epoch 17/20\n",
      "\u001b[1m981/981\u001b[0m \u001b[32m━━━━━━━━━━━━━━━━━━━━\u001b[0m\u001b[37m\u001b[0m \u001b[1m40s\u001b[0m 41ms/step - accuracy: 0.9950 - loss: 0.0186 - val_accuracy: 0.9884 - val_loss: 0.0820\n",
      "Epoch 18/20\n",
      "\u001b[1m981/981\u001b[0m \u001b[32m━━━━━━━━━━━━━━━━━━━━\u001b[0m\u001b[37m\u001b[0m \u001b[1m40s\u001b[0m 41ms/step - accuracy: 0.9934 - loss: 0.0265 - val_accuracy: 0.9901 - val_loss: 0.0816\n",
      "Epoch 19/20\n",
      "\u001b[1m981/981\u001b[0m \u001b[32m━━━━━━━━━━━━━━━━━━━━\u001b[0m\u001b[37m\u001b[0m \u001b[1m40s\u001b[0m 41ms/step - accuracy: 0.9930 - loss: 0.0276 - val_accuracy: 0.9904 - val_loss: 0.0756\n",
      "Epoch 20/20\n",
      "\u001b[1m981/981\u001b[0m \u001b[32m━━━━━━━━━━━━━━━━━━━━\u001b[0m\u001b[37m\u001b[0m \u001b[1m39s\u001b[0m 40ms/step - accuracy: 0.9955 - loss: 0.0182 - val_accuracy: 0.9901 - val_loss: 0.0786\n"
     ]
    }
   ],
   "source": [
    "history=model.fit(x_train,y_train,validation_data=(x_test,y_test), epochs=20,verbose=1)"
   ]
  },
  {
   "cell_type": "code",
   "execution_count": 30,
   "id": "dcbf2e98",
   "metadata": {},
   "outputs": [
    {
     "name": "stdout",
     "output_type": "stream",
     "text": [
      "\u001b[1m246/246\u001b[0m \u001b[32m━━━━━━━━━━━━━━━━━━━━\u001b[0m\u001b[37m\u001b[0m \u001b[1m3s\u001b[0m 11ms/step - accuracy: 0.9885 - loss: 0.0859\n"
     ]
    }
   ],
   "source": [
    "loss,accuracy=model.evaluate(x_test,y_test)"
   ]
  },
  {
   "cell_type": "code",
   "execution_count": 31,
   "id": "2795f28a",
   "metadata": {},
   "outputs": [
    {
     "data": {
      "text/plain": [
       "0.9900535345077515"
      ]
     },
     "execution_count": 31,
     "metadata": {},
     "output_type": "execute_result"
    }
   ],
   "source": [
    "accuracy"
   ]
  },
  {
   "cell_type": "code",
   "execution_count": 32,
   "id": "9d4bbd9b",
   "metadata": {},
   "outputs": [
    {
     "name": "stdout",
     "output_type": "stream",
     "text": [
      "\u001b[1m246/246\u001b[0m \u001b[32m━━━━━━━━━━━━━━━━━━━━\u001b[0m\u001b[37m\u001b[0m \u001b[1m3s\u001b[0m 11ms/step\n"
     ]
    }
   ],
   "source": [
    "tahmin=model.predict(x_test)"
   ]
  },
  {
   "cell_type": "code",
   "execution_count": 33,
   "id": "a3f17ffb",
   "metadata": {},
   "outputs": [
    {
     "name": "stderr",
     "output_type": "stream",
     "text": [
      "WARNING:absl:You are saving your model as an HDF5 file via `model.save()` or `keras.saving.save_model(model)`. This file format is considered legacy. We recommend using instead the native Keras format, e.g. `model.save('my_model.keras')` or `keras.saving.save_model(model, 'my_model.keras')`. \n"
     ]
    }
   ],
   "source": [
    "model.save('trafik.h5')"
   ]
  },
  {
   "cell_type": "code",
   "execution_count": 34,
   "id": "3a483021",
   "metadata": {},
   "outputs": [
    {
     "data": {
      "text/plain": [
       "<matplotlib.legend.Legend at 0x28e8e5a50>"
      ]
     },
     "execution_count": 34,
     "metadata": {},
     "output_type": "execute_result"
    },
    {
     "data": {
      "image/png": "[encoded data removed]",
      "text/plain": [
       "<Figure size 640x480 with 1 Axes>"
      ]
     },
     "metadata": {},
     "output_type": "display_data"
    }
   ],
   "source": [
    "plt.plot(history.history['accuracy'],label='Accuracy')\n",
    "plt.plot(history.history['val_accuracy'],label='Val_Accuracy')\n",
    "plt.legend()"
   ]
  },
  {
   "cell_type": "code",
   "execution_count": 35,
   "id": "4318bd83",
   "metadata": {},
   "outputs": [],
   "source": [
    "loss_f=pd.DataFrame(history.history)"
   ]
  },
  {
   "cell_type": "code",
   "execution_count": 36,
   "id": "75fc5a6d",
   "metadata": {},
   "outputs": [
    {
     "data": {
      "text/plain": [
       "<Axes: >"
      ]
     },
     "execution_count": 36,
     "metadata": {},
     "output_type": "execute_result"
    },
    {
     "data": {
      "image/png": "[encoded data removed]",
      "text/plain": [
       "<Figure size 640x480 with 1 Axes>"
      ]
     },
     "metadata": {},
     "output_type": "display_data"
    }
   ],
   "source": [
    "loss_f.plot()"
   ]
  },
  {
   "cell_type": "code",
   "execution_count": 37,
   "id": "784cee24",
   "metadata": {},
   "outputs": [],
   "source": [
    "from sklearn.metrics import accuracy_score, confusion_matrix,classification_report"
   ]
  },
  {
   "cell_type": "code",
   "execution_count": 38,
   "id": "b7276366",
   "metadata": {},
   "outputs": [
    {
     "data": {
      "text/plain": [
       "array([[ 37,   1,   0, ...,   0,   0,   0],\n",
       "       [  0, 489,   1, ...,   0,   0,   0],\n",
       "       [  0,   8, 441, ...,   0,   0,   0],\n",
       "       ...,\n",
       "       [  0,   0,   0, ...,  60,   0,   0],\n",
       "       [  0,   0,   0, ...,   0,  47,   0],\n",
       "       [  0,   0,   0, ...,   0,   0,  40]])"
      ]
     },
     "execution_count": 38,
     "metadata": {},
     "output_type": "execute_result"
    }
   ],
   "source": [
    "confusion_matrix(y_test, np.argmax(tahmin, axis=1))"
   ]
  },
  {
   "cell_type": "code",
   "execution_count": 39,
   "id": "139b8108",
   "metadata": {},
   "outputs": [],
   "source": [
    "cm=confusion_matrix(y_test, np.argmax(tahmin, axis=1))"
   ]
  },
  {
   "cell_type": "code",
   "execution_count": 40,
   "id": "80598379",
   "metadata": {},
   "outputs": [],
   "source": [
    "import seaborn as sns"
   ]
  },
  {
   "cell_type": "code",
   "execution_count": 41,
   "id": "36da60a7",
   "metadata": {
    "scrolled": true
   },
   "outputs": [
    {
     "data": {
      "image/png": "[encoded data removed]",
      "text/plain": [
       "<Figure size 640x480 with 2 Axes>"
      ]
     },
     "metadata": {},
     "output_type": "display_data"
    }
   ],
   "source": [
    "import seaborn as sns\n",
    "from sklearn.metrics import confusion_matrix\n",
    "\n",
    "sns.heatmap(confusion_matrix(y_test, np.argmax(tahmin, axis=1)), annot=False);"
   ]
  },
  {
   "cell_type": "markdown",
   "id": "e923eb02",
   "metadata": {},
   "source": [
    "### Here we have drawn a result with accuracy: 0.9885 - loss: 0.0859 in our model."
   ]
  }
 ],
 "metadata": {
  "kernelspec": {
   "display_name": "Python 3 (ipykernel)",
   "language": "python",
   "name": "python3"
  },
  "language_info": {
   "codemirror_mode": {
    "name": "ipython",
    "version": 3
   },
   "file_extension": ".py",
   "mimetype": "text/x-python",
   "name": "python",
   "nbconvert_exporter": "python",
   "pygments_lexer": "ipython3",
   "version": "3.11.7"
  }
 },
 "nbformat": 4,
 "nbformat_minor": 5
}
